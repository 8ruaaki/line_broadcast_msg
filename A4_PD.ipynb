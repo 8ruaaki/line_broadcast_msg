{
  "nbformat": 4,
  "nbformat_minor": 0,
  "metadata": {
    "kernelspec": {
      "display_name": "Python 3",
      "language": "python",
      "name": "python3"
    },
    "language_info": {
      "codemirror_mode": {
        "name": "ipython",
        "version": 3
      },
      "file_extension": ".py",
      "mimetype": "text/x-python",
      "name": "python",
      "nbconvert_exporter": "python",
      "pygments_lexer": "ipython3",
      "version": "3.7.1"
    },
    "colab": {
      "name": "SocSysSci_05_PD.ipynb",
      "provenance": [],
      "include_colab_link": true
    }
  },
  "cells": [
    {
      "cell_type": "markdown",
      "metadata": {
        "id": "view-in-github",
        "colab_type": "text"
      },
      "source": [
        "<a href=\"https://colab.research.google.com/github/8ruaaki/line_broadcast_msg/blob/main/A4_PD.ipynb\" target=\"_parent\"><img src=\"https://colab.research.google.com/assets/colab-badge.svg\" alt=\"Open In Colab\"/></a>"
      ]
    },
    {
      "cell_type": "code",
      "metadata": {
        "id": "gzArUODIYAMT"
      },
      "source": [
        "import random\n",
        "import matplotlib.pyplot as plt\n",
        "import numpy as np"
      ],
      "execution_count": 8,
      "outputs": []
    },
    {
      "cell_type": "markdown",
      "metadata": {
        "id": "2JVgpbYLww8r"
      },
      "source": [
        "### 利得表"
      ]
    },
    {
      "cell_type": "code",
      "metadata": {
        "id": "VGAvhbYsYAMZ"
      },
      "source": [
        "COOPERATE = 0\n",
        "DEFECT = 1\n",
        "PAYOFF = [\n",
        "    [10, 5],\n",
        "    [20, 0]\n",
        "]"
      ],
      "execution_count": 36,
      "outputs": []
    },
    {
      "cell_type": "markdown",
      "metadata": {
        "id": "hXHMfhBpw9PF"
      },
      "source": [
        "### 準備（クラス）"
      ]
    },
    {
      "cell_type": "code",
      "metadata": {
        "id": "PiyupszmYAMd"
      },
      "source": [
        "class Player:\n",
        "    def __init__(self):\n",
        "        self.hist = []\n",
        "        self.point = 0\n",
        "\n",
        "    def choose(self, opponent):\n",
        "        return COOPERATE\n",
        "\n",
        "    def register_result(self, choice, point):\n",
        "        self.hist.append(choice)\n",
        "        self.point += point"
      ],
      "execution_count": 10,
      "outputs": []
    },
    {
      "cell_type": "markdown",
      "metadata": {
        "id": "5zqcgVGoxI0u"
      },
      "source": [
        "### 様々なプレイヤー"
      ]
    },
    {
      "cell_type": "code",
      "metadata": {
        "id": "R-fqeHq-YAMf"
      },
      "source": [
        "class CooperatePlayer(Player):\n",
        "    def choose(self, opponent):\n",
        "        return COOPERATE"
      ],
      "execution_count": 11,
      "outputs": []
    },
    {
      "cell_type": "code",
      "metadata": {
        "id": "w1aVRe1NYAMh"
      },
      "source": [
        "class DefectPlayer(Player):\n",
        "    def choose(self, opponent):\n",
        "        return DEFECT"
      ],
      "execution_count": 12,
      "outputs": []
    },
    {
      "cell_type": "code",
      "metadata": {
        "id": "E2phxXbNYAMj"
      },
      "source": [
        "class TftPlayer(Player): ##しっぺ返し戦略\n",
        "    def choose(self, opponent):\n",
        "        my_choice = COOPERATE\n",
        "        if 0 < len(opponent.hist):\n",
        "            my_choice = opponent.hist[-1]\n",
        "        return my_choice"
      ],
      "execution_count": 13,
      "outputs": []
    },
    {
      "cell_type": "code",
      "metadata": {
        "id": "ItsnnBPKYAMk"
      },
      "source": [
        "class Tf2tPlayer(Player):\n",
        "    def choose(self, opponent):\n",
        "        my_choice = COOPERATE\n",
        "        if 1 < len(opponent.hist) and opponent.hist[-2] == DEFECT and opponent.hist[-1] == DEFECT:\n",
        "            my_choice = DEFECT\n",
        "        return my_choice"
      ],
      "execution_count": 14,
      "outputs": []
    },
    {
      "cell_type": "code",
      "metadata": {
        "id": "ZwbJBbn3YAMl"
      },
      "source": [
        "class Friedman(Player):##1度裏切られたら裏切り続ける\n",
        "    def choose(self, opponent):\n",
        "        my_choice = COOPERATE\n",
        "        if DEFECT in opponent.hist:\n",
        "            my_choice = DEFECT\n",
        "        return my_choice"
      ],
      "execution_count": 15,
      "outputs": []
    },
    {
      "cell_type": "code",
      "metadata": {
        "id": "aj8O7_C6YAMm"
      },
      "source": [
        "class Joss(Player):#1/10の確率で裏切る\n",
        "    def choose(self, opponent):\n",
        "        my_choice = COOPERATE\n",
        "        if 0 < len(opponent.hist):\n",
        "            if opponent.hist[-1] == DEFECT:\n",
        "                my_choice = DEFECT\n",
        "            elif random.random() < 0.1:\n",
        "                my_choice = DEFECT\n",
        "        return my_choice"
      ],
      "execution_count": 16,
      "outputs": []
    },
    {
      "cell_type": "code",
      "metadata": {
        "id": "UZJSlqD-YAMn"
      },
      "source": [
        "class RandomPlayer(Player):\n",
        "    def choose(self, opponent):\n",
        "        my_choice = random.randint(0,1)\n",
        "        return my_choice"
      ],
      "execution_count": 17,
      "outputs": []
    },
    {
      "cell_type": "markdown",
      "metadata": {
        "id": "PaezcUX3xfQ9"
      },
      "source": [
        "### 1回ゲームの定義"
      ]
    },
    {
      "cell_type": "code",
      "metadata": {
        "id": "O-0BWM1oYAMn"
      },
      "source": [
        "def one_game(p1, p2):\n",
        "    choice_A = p1.choose(p2)\n",
        "    choice_B = p2.choose(p1)\n",
        "    p1.register_result(choice_A, PAYOFF[choice_A][choice_B])\n",
        "    p2.register_result(choice_B, PAYOFF[choice_B][choice_A])"
      ],
      "execution_count": 18,
      "outputs": []
    },
    {
      "cell_type": "markdown",
      "metadata": {
        "id": "BPpi42KGxkaV"
      },
      "source": [
        "### 繰り返しゲームの定義"
      ]
    },
    {
      "cell_type": "code",
      "metadata": {
        "id": "HDsdlmBkYAMo"
      },
      "source": [
        "def iter_game(num, p1, p2):\n",
        "    for n in range(num):\n",
        "        one_game(p1, p2)"
      ],
      "execution_count": 19,
      "outputs": []
    },
    {
      "cell_type": "markdown",
      "metadata": {
        "id": "HqZ7z3hvxm_-"
      },
      "source": [
        "### 対戦シミュレーション"
      ]
    },
    {
      "cell_type": "code",
      "metadata": {
        "id": "xZwHCTHTYAMp",
        "colab": {
          "base_uri": "https://localhost:8080/"
        },
        "outputId": "be3e292d-544f-41e7-9f00-57cd0de0108a"
      },
      "source": [
        "p1 = Joss()#player\n",
        "p2 = DefectPlayer()\n",
        "iter_game(10, p1, p2)#10回対戦\n",
        "print(\"P1: \", p1.point)\n",
        "print(\"P2: \", p2.point)"
      ],
      "execution_count": 55,
      "outputs": [
        {
          "output_type": "stream",
          "name": "stdout",
          "text": [
            "P1:  5\n",
            "P2:  20\n"
          ]
        }
      ]
    }
  ]
}